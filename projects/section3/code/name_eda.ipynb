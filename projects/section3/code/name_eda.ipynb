{
 "cells": [
  {
   "cell_type": "code",
   "execution_count": 2,
   "metadata": {},
   "outputs": [],
   "source": [
    "import pandas as pd\n",
    "# 이름 모두 영어로 바꾸기\n",
    "from deep_translator import GoogleTranslator\n",
    "def to_translate(string):\n",
    "    s = GoogleTranslator(source='de', target='en').translate(string)\n",
    "    return s.lower()"
   ]
  },
  {
   "cell_type": "code",
   "execution_count": 3,
   "metadata": {},
   "outputs": [],
   "source": [
    "fw_df = pd.read_csv('fw_df.csv', index_col = 0)\n",
    "mid_df = pd.read_csv('mid_df.csv', index_col = 0)\n",
    "def_df = pd.read_csv('def_df.csv', index_col = 0)"
   ]
  },
  {
   "cell_type": "code",
   "execution_count": 4,
   "metadata": {},
   "outputs": [],
   "source": [
    "mid_df['name2'] = mid_df['name'].apply(to_translate)\n",
    "mid_df.head()"
   ]
  },
  {
   "cell_type": "code",
   "execution_count": null,
   "metadata": {},
   "outputs": [],
   "source": [
    "mid_df.to_csv('mid_df.csv')"
   ]
  }
 ],
 "metadata": {
  "interpreter": {
   "hash": "de213575d031238fdbf897b2b747b37d984a051e59ef2417722d896a4785bf85"
  },
  "kernelspec": {
   "display_name": "Python 3.8.5 32-bit",
   "language": "python",
   "name": "python3"
  },
  "language_info": {
   "codemirror_mode": {
    "name": "ipython",
    "version": 3
   },
   "file_extension": ".py",
   "mimetype": "text/x-python",
   "name": "python",
   "nbconvert_exporter": "python",
   "pygments_lexer": "ipython3",
   "version": "3.8.5"
  },
  "orig_nbformat": 4
 },
 "nbformat": 4,
 "nbformat_minor": 2
}
