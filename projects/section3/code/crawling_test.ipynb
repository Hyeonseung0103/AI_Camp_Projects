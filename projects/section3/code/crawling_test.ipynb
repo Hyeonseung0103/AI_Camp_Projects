{
 "cells": [
  {
   "cell_type": "code",
   "execution_count": 2,
   "metadata": {},
   "outputs": [],
   "source": [
    "from selenium import webdriver\n",
    "from selenium.webdriver.common.keys import Keys\n",
    "import time\n",
    "import pandas as pd"
   ]
  },
  {
   "cell_type": "code",
   "execution_count": 3,
   "metadata": {},
   "outputs": [],
   "source": [
    "df = pd.DataFrame(columns = ['name','birth','height','country','position','current_mv', 'current_date','high_mv','high_date','img'])\n",
    "#df = pd.read_csv('market_value3.csv',index_col = 0)\n",
    "# df=df.iloc[:359]\n",
    "#df.head()\n",
    "#df.loc[df.duplicated(subset='img_source')]\n",
    "# df.to_csv('market_value.csv')\n",
    "# df.to_csv('market_value2.csv')\n",
    "# df.to_csv('market_value3.csv')\n",
    "#df.loc[df.name == 'Dusan Vlahovic']\n"
   ]
  },
  {
   "cell_type": "code",
   "execution_count": 138,
   "metadata": {},
   "outputs": [],
   "source": [
    "# df.iloc[253] = [name, birth, height, country, position, current_mv, current_date, high_mv, high_date, img]\n",
    "# df.iloc[250:255]\n",
    "#df.to_csv('market_value3.csv')\n",
    "\n",
    "\n",
    "\n"
   ]
  },
  {
   "cell_type": "code",
   "execution_count": 5,
   "metadata": {},
   "outputs": [
    {
     "name": "stderr",
     "output_type": "stream",
     "text": [
      "<ipython-input-5-17373f0c618b>:1: DeprecationWarning: executable_path has been deprecated, please pass in a Service object\n",
      "  driver = webdriver.Chrome('C:/Users/kim/Desktop/2022/AI_camp/Section3/project/chromedriver')\n"
     ]
    }
   ],
   "source": [
    "driver = webdriver.Chrome('C:/Users/kim/Desktop/2022/AI_camp/Section3/project/chromedriver')\n",
    "url = 'https://www.transfermarkt.com/marktwertetop/wertvollstespieler'\n",
    "driver.get(url)    "
   ]
  },
  {
   "cell_type": "code",
   "execution_count": 6,
   "metadata": {},
   "outputs": [
    {
     "name": "stdout",
     "output_type": "stream",
     "text": [
      "0\n"
     ]
    },
    {
     "name": "stderr",
     "output_type": "stream",
     "text": [
      "<ipython-input-6-617971fca1db>:17: DeprecationWarning: find_elements_by_css_selector is deprecated. Please use find_elements(by=By.CSS_SELECTOR, value=css_selector) instead\n",
      "  driver.find_elements_by_css_selector('.tm-pagination__list-item')[pages].click()\n",
      "<ipython-input-6-617971fca1db>:19: DeprecationWarning: find_elements_by_css_selector is deprecated. Please use find_elements(by=By.CSS_SELECTOR, value=css_selector) instead\n",
      "  name = driver.find_elements_by_css_selector('.hauptlink')[i].get_attribute('innerText')\n",
      "<ipython-input-6-617971fca1db>:20: DeprecationWarning: find_elements_by_css_selector is deprecated. Please use find_elements(by=By.CSS_SELECTOR, value=css_selector) instead\n",
      "  position = driver.find_elements_by_css_selector('tr')[j+10].get_attribute('innerText')\n",
      "<ipython-input-6-617971fca1db>:21: DeprecationWarning: find_elements_by_css_selector is deprecated. Please use find_elements(by=By.CSS_SELECTOR, value=css_selector) instead\n",
      "  img = driver.find_elements_by_css_selector('td > a > img')[i].get_attribute('src')\n",
      "<ipython-input-6-617971fca1db>:23: DeprecationWarning: find_elements_by_css_selector is deprecated. Please use find_elements(by=By.CSS_SELECTOR, value=css_selector) instead\n",
      "  page = driver.find_elements_by_css_selector('.hauptlink')[i].click()\n",
      "<ipython-input-6-617971fca1db>:24: DeprecationWarning: find_elements_by_css_selector is deprecated. Please use find_elements(by=By.CSS_SELECTOR, value=css_selector) instead\n",
      "  data =driver.find_elements_by_css_selector('div.box.viewport-tracking.tm-player-market-value-development-container')\n",
      "<ipython-input-6-617971fca1db>:25: DeprecationWarning: find_elements_by_css_selector is deprecated. Please use find_elements(by=By.CSS_SELECTOR, value=css_selector) instead\n",
      "  birth = driver.find_elements_by_css_selector('.data-header__label')[3].get_attribute('innerText')[19:]\n",
      "<ipython-input-6-617971fca1db>:26: DeprecationWarning: find_elements_by_css_selector is deprecated. Please use find_elements(by=By.CSS_SELECTOR, value=css_selector) instead\n",
      "  height = driver.find_elements_by_css_selector('.data-header__items')[1].get_attribute('innerText').split('\\n')[0][8:]\n",
      "<ipython-input-6-617971fca1db>:27: DeprecationWarning: find_elements_by_css_selector is deprecated. Please use find_elements(by=By.CSS_SELECTOR, value=css_selector) instead\n",
      "  country = driver.find_elements_by_css_selector('.data-header__items')[0].get_attribute('innerText').split('\\n')[2][14:]\n"
     ]
    },
    {
     "name": "stdout",
     "output_type": "stream",
     "text": [
      "2\n"
     ]
    },
    {
     "ename": "Error",
     "evalue": "Canceled future for execute_request message before replies were done",
     "output_type": "error",
     "traceback": [
      "Error: Canceled future for execute_request message before replies were done",
      "at t.KernelShellFutureHandler.dispose (c:\\Users\\kim\\.vscode\\extensions\\ms-toolsai.jupyter-2022.3.1000901801\\out\\extension.js:2:1204175)",
      "at c:\\Users\\kim\\.vscode\\extensions\\ms-toolsai.jupyter-2022.3.1000901801\\out\\extension.js:2:1223227",
      "at Map.forEach (<anonymous>)",
      "at v._clearKernelState (c:\\Users\\kim\\.vscode\\extensions\\ms-toolsai.jupyter-2022.3.1000901801\\out\\extension.js:2:1223212)",
      "at v.dispose (c:\\Users\\kim\\.vscode\\extensions\\ms-toolsai.jupyter-2022.3.1000901801\\out\\extension.js:2:1216694)",
      "at c:\\Users\\kim\\.vscode\\extensions\\ms-toolsai.jupyter-2022.3.1000901801\\out\\extension.js:2:533674",
      "at t.swallowExceptions (c:\\Users\\kim\\.vscode\\extensions\\ms-toolsai.jupyter-2022.3.1000901801\\out\\extension.js:2:913059)",
      "at dispose (c:\\Users\\kim\\.vscode\\extensions\\ms-toolsai.jupyter-2022.3.1000901801\\out\\extension.js:2:533652)",
      "at t.RawSession.dispose (c:\\Users\\kim\\.vscode\\extensions\\ms-toolsai.jupyter-2022.3.1000901801\\out\\extension.js:2:537330)",
      "at runMicrotasks (<anonymous>)",
      "at processTicksAndRejections (node:internal/process/task_queues:96:5)"
     ]
    }
   ],
   "source": [
    "#열려있을 때 눌러야 불러와짐\n",
    "#스크롤을 내려줘야 제대로 정보가 불러와짐\n",
    "try:\n",
    "    j = 0\n",
    "    pages = 0\n",
    "    i = 0\n",
    "    while pages < 21:\n",
    "        print(i)\n",
    "        if i > 48:\n",
    "            pages += 1\n",
    "            time.sleep(3)\n",
    "            j = 0\n",
    "            i = 0\n",
    "            print('이 다음에', pages+1,' 페이지로 넘어갑니다.')\n",
    "        # driver.find_elements_by_css_selector('.tm-pagination__list-item')[11].click()\n",
    "        # time.sleep(3)\n",
    "        driver.find_elements_by_css_selector('.tm-pagination__list-item')[pages].click()\n",
    "        time.sleep(3)\n",
    "        name = driver.find_elements_by_css_selector('.hauptlink')[i].get_attribute('innerText')\n",
    "        position = driver.find_elements_by_css_selector('tr')[j+10].get_attribute('innerText')\n",
    "        img = driver.find_elements_by_css_selector('td > a > img')[i].get_attribute('src')\n",
    "        driver.execute_script(\"window.scrollTo(0, 800)\")\n",
    "        page = driver.find_elements_by_css_selector('.hauptlink')[i].click()\n",
    "        data =driver.find_elements_by_css_selector('div.box.viewport-tracking.tm-player-market-value-development-container')\n",
    "        birth = driver.find_elements_by_css_selector('.data-header__label')[3].get_attribute('innerText')[19:]\n",
    "        height = driver.find_elements_by_css_selector('.data-header__items')[1].get_attribute('innerText').split('\\n')[0][8:]\n",
    "        country = driver.find_elements_by_css_selector('.data-header__items')[0].get_attribute('innerText').split('\\n')[2][14:]\n",
    "        mv_list = data[0].get_attribute('innerText').split('\\n')\n",
    "        current_mv = mv_list[2]\n",
    "        current_date = mv_list[6][13:]\n",
    "        high_mv = mv_list[4]\n",
    "        high_date = mv_list[5]\n",
    "        df = pd.concat([df, pd.DataFrame([[name,birth,height,country,position,current_mv, current_date, high_mv, high_date, img]], columns = df.columns)])\n",
    "        df.reset_index(inplace = True, drop = True)\n",
    "        driver.back()\n",
    "        time.sleep(2)\n",
    "        # if pages != 0:\n",
    "        #     time.sleep(3)\n",
    "        #     driver.find_elements_by_css_selector('.tm-pagination__list-item')[pages].click()\n",
    "        j += 3\n",
    "        i += 2\n",
    "except:\n",
    "    # df.to_csv('market_value3.csv')\n",
    "    pass    \n",
    "#driver.close()\n"
   ]
  },
  {
   "cell_type": "code",
   "execution_count": 8,
   "metadata": {},
   "outputs": [
    {
     "data": {
      "text/plain": [
       "0"
      ]
     },
     "execution_count": 8,
     "metadata": {},
     "output_type": "execute_result"
    }
   ],
   "source": [
    "#df.head()\n",
    "sum(df.duplicated())"
   ]
  },
  {
   "cell_type": "code",
   "execution_count": 94,
   "metadata": {},
   "outputs": [
    {
     "data": {
      "text/html": [
       "<div>\n",
       "<style scoped>\n",
       "    .dataframe tbody tr th:only-of-type {\n",
       "        vertical-align: middle;\n",
       "    }\n",
       "\n",
       "    .dataframe tbody tr th {\n",
       "        vertical-align: top;\n",
       "    }\n",
       "\n",
       "    .dataframe thead th {\n",
       "        text-align: right;\n",
       "    }\n",
       "</style>\n",
       "<table border=\"1\" class=\"dataframe\">\n",
       "  <thead>\n",
       "    <tr style=\"text-align: right;\">\n",
       "      <th></th>\n",
       "      <th>name</th>\n",
       "      <th>birth</th>\n",
       "      <th>height</th>\n",
       "      <th>country</th>\n",
       "      <th>position</th>\n",
       "      <th>current_mv</th>\n",
       "      <th>current_date</th>\n",
       "      <th>high_mv</th>\n",
       "      <th>high_date</th>\n",
       "      <th>img_source</th>\n",
       "    </tr>\n",
       "  </thead>\n",
       "  <tbody>\n",
       "    <tr>\n",
       "      <th>468</th>\n",
       "      <td>Marash Kumbulla</td>\n",
       "      <td>Feb 8, 2000 (22)</td>\n",
       "      <td>1,91 m</td>\n",
       "      <td>Albania</td>\n",
       "      <td>Attacking Midfield</td>\n",
       "      <td>€18.00m</td>\n",
       "      <td>Dec 28, 2021</td>\n",
       "      <td>€27.00m</td>\n",
       "      <td>Dec 29, 2020</td>\n",
       "      <td>https://img.a.transfermarkt.technology/portrai...</td>\n",
       "    </tr>\n",
       "    <tr>\n",
       "      <th>469</th>\n",
       "      <td>Sergiño Dest</td>\n",
       "      <td>Nov 3, 2000 (21)</td>\n",
       "      <td>1,75 m</td>\n",
       "      <td>United States</td>\n",
       "      <td>Central Midfield</td>\n",
       "      <td>€18.00m</td>\n",
       "      <td>Dec 30, 2021</td>\n",
       "      <td>€30.00m</td>\n",
       "      <td>Jun 10, 2021</td>\n",
       "      <td>https://img.a.transfermarkt.technology/portrai...</td>\n",
       "    </tr>\n",
       "    <tr>\n",
       "      <th>470</th>\n",
       "      <td>Diogo Dalot</td>\n",
       "      <td>Mar 18, 1999 (23)</td>\n",
       "      <td>1,83 m</td>\n",
       "      <td>Portugal</td>\n",
       "      <td>Centre-Back</td>\n",
       "      <td>€18.00m</td>\n",
       "      <td>Mar 29, 2022</td>\n",
       "      <td>€20.00m</td>\n",
       "      <td>Jun 13, 2019</td>\n",
       "      <td>https://img.a.transfermarkt.technology/portrai...</td>\n",
       "    </tr>\n",
       "    <tr>\n",
       "      <th>471</th>\n",
       "      <td>Mason Holgate</td>\n",
       "      <td>Oct 22, 1996 (25)</td>\n",
       "      <td>1,87 m</td>\n",
       "      <td>England</td>\n",
       "      <td>Right-Back</td>\n",
       "      <td>€18.00m</td>\n",
       "      <td>Dec 23, 2021</td>\n",
       "      <td>€20.00m</td>\n",
       "      <td>Jun 8, 2021</td>\n",
       "      <td>https://img.a.transfermarkt.technology/portrai...</td>\n",
       "    </tr>\n",
       "    <tr>\n",
       "      <th>472</th>\n",
       "      <td>Gerson</td>\n",
       "      <td>May 20, 1997 (24)</td>\n",
       "      <td>1,84 m</td>\n",
       "      <td>Brazil</td>\n",
       "      <td>Central Midfield</td>\n",
       "      <td>€18.00m</td>\n",
       "      <td>Dec 16, 2021</td>\n",
       "      <td>€20.00m</td>\n",
       "      <td>May 28, 2021</td>\n",
       "      <td>https://img.a.transfermarkt.technology/portrai...</td>\n",
       "    </tr>\n",
       "  </tbody>\n",
       "</table>\n",
       "</div>"
      ],
      "text/plain": [
       "                name              birth  height        country  \\\n",
       "468  Marash Kumbulla   Feb 8, 2000 (22)  1,91 m        Albania   \n",
       "469     Sergiño Dest   Nov 3, 2000 (21)  1,75 m  United States   \n",
       "470      Diogo Dalot  Mar 18, 1999 (23)  1,83 m       Portugal   \n",
       "471    Mason Holgate  Oct 22, 1996 (25)  1,87 m        England   \n",
       "472           Gerson  May 20, 1997 (24)  1,84 m         Brazil   \n",
       "\n",
       "               position current_mv  current_date  high_mv     high_date  \\\n",
       "468  Attacking Midfield    €18.00m  Dec 28, 2021  €27.00m  Dec 29, 2020   \n",
       "469    Central Midfield    €18.00m  Dec 30, 2021  €30.00m  Jun 10, 2021   \n",
       "470         Centre-Back    €18.00m  Mar 29, 2022  €20.00m  Jun 13, 2019   \n",
       "471          Right-Back    €18.00m  Dec 23, 2021  €20.00m   Jun 8, 2021   \n",
       "472    Central Midfield    €18.00m  Dec 16, 2021  €20.00m  May 28, 2021   \n",
       "\n",
       "                                            img_source  \n",
       "468  https://img.a.transfermarkt.technology/portrai...  \n",
       "469  https://img.a.transfermarkt.technology/portrai...  \n",
       "470  https://img.a.transfermarkt.technology/portrai...  \n",
       "471  https://img.a.transfermarkt.technology/portrai...  \n",
       "472  https://img.a.transfermarkt.technology/portrai...  "
      ]
     },
     "execution_count": 94,
     "metadata": {},
     "output_type": "execute_result"
    }
   ],
   "source": [
    "df = pd.read_csv('market_value3.csv',index_col = 0)\n",
    "df.tail()\n",
    "\n",
    "# df = pd.concat([df, pd.DataFrame([[name,birth,height,country,position,current_mv, current_date, high_mv, high_date, img]], columns = df.columns)])\n",
    "# df.reset_index(inplace = True, drop = True)\n",
    "# df.to_csv('market_value3.csv')"
   ]
  },
  {
   "cell_type": "code",
   "execution_count": 202,
   "metadata": {},
   "outputs": [],
   "source": [
    "#df['img_source'][0:100] = df_name['img_source']\n",
    "#df['img_source'][80]\n",
    "#df.to_csv('market_value4.csv')\n"
   ]
  }
 ],
 "metadata": {
  "interpreter": {
   "hash": "de213575d031238fdbf897b2b747b37d984a051e59ef2417722d896a4785bf85"
  },
  "kernelspec": {
   "display_name": "Python 3.8.5 32-bit",
   "language": "python",
   "name": "python3"
  },
  "language_info": {
   "codemirror_mode": {
    "name": "ipython",
    "version": 3
   },
   "file_extension": ".py",
   "mimetype": "text/x-python",
   "name": "python",
   "nbconvert_exporter": "python",
   "pygments_lexer": "ipython3",
   "version": "3.8.5"
  },
  "orig_nbformat": 4
 },
 "nbformat": 4,
 "nbformat_minor": 2
}
